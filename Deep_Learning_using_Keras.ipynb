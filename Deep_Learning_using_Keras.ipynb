{
  "nbformat": 4,
  "nbformat_minor": 0,
  "metadata": {
    "colab": {
      "name": "Deep Learning using Keras.ipynb",
      "provenance": [],
      "toc_visible": true,
      "authorship_tag": "ABX9TyMPGrunKrWoLPsLtF5QC/Fp",
      "include_colab_link": true
    },
    "kernelspec": {
      "name": "python3",
      "display_name": "Python 3"
    }
  },
  "cells": [
    {
      "cell_type": "markdown",
      "metadata": {
        "id": "view-in-github",
        "colab_type": "text"
      },
      "source": [
        "<a href=\"https://colab.research.google.com/github/mananthavelu/deep_learning_using_keras_by_Fran-ois_Chollet-/blob/main/Deep_Learning_using_Keras.ipynb\" target=\"_parent\"><img src=\"https://colab.research.google.com/assets/colab-badge.svg\" alt=\"Open In Colab\"/></a>"
      ]
    },
    {
      "cell_type": "markdown",
      "metadata": {
        "id": "uihOpi1pkZFp"
      },
      "source": [
        "### Loading the Data"
      ]
    },
    {
      "cell_type": "code",
      "metadata": {
        "id": "ohe06GPxlSqx"
      },
      "source": [
        "import numpy as np"
      ],
      "execution_count": 3,
      "outputs": []
    },
    {
      "cell_type": "markdown",
      "metadata": {
        "id": "W-bwqpT2kQlB"
      },
      "source": [
        "Scalar-0D Tensor"
      ]
    },
    {
      "cell_type": "code",
      "metadata": {
        "colab": {
          "base_uri": "https://localhost:8080/"
        },
        "id": "ZU6l8JpfkPzo",
        "outputId": "8c46f1af-c0bd-4b08-af73-ac3ff74f6c54"
      },
      "source": [
        "\r\n",
        "x=np.array(12)\r\n",
        "print(x)\r\n",
        "x.ndim"
      ],
      "execution_count": 2,
      "outputs": [
        {
          "output_type": "stream",
          "text": [
            "12\n"
          ],
          "name": "stdout"
        },
        {
          "output_type": "execute_result",
          "data": {
            "text/plain": [
              "0"
            ]
          },
          "metadata": {
            "tags": []
          },
          "execution_count": 2
        }
      ]
    },
    {
      "cell_type": "markdown",
      "metadata": {
        "id": "FlpRJO0ykgCK"
      },
      "source": [
        "Vectors -1D Tensor"
      ]
    },
    {
      "cell_type": "code",
      "metadata": {
        "colab": {
          "base_uri": "https://localhost:8080/"
        },
        "id": "_WHgdTK5kivE",
        "outputId": "396525f1-cee7-4eaf-ebff-cf54cb87d571"
      },
      "source": [
        "x=np.array([10,12,30])\r\n",
        "print(x)\r\n",
        "x\r\n",
        "x.ndim"
      ],
      "execution_count": null,
      "outputs": [
        {
          "output_type": "stream",
          "text": [
            "[10 12 30]\n"
          ],
          "name": "stdout"
        },
        {
          "output_type": "execute_result",
          "data": {
            "text/plain": [
              "1"
            ]
          },
          "metadata": {
            "tags": []
          },
          "execution_count": 6
        }
      ]
    },
    {
      "cell_type": "markdown",
      "metadata": {
        "id": "Vgl3s705k8Zb"
      },
      "source": [
        "Matrices -2D Tensors\r\n"
      ]
    },
    {
      "cell_type": "code",
      "metadata": {
        "colab": {
          "base_uri": "https://localhost:8080/"
        },
        "id": "aBTS7u6vlJ09",
        "outputId": "32da8a13-e879-4951-9bff-aaeb8bdf996d"
      },
      "source": [
        "array=np.array([[1,2,3,4],[2,3,4,8]])\r\n",
        "array\r\n",
        "array.ndim"
      ],
      "execution_count": 6,
      "outputs": [
        {
          "output_type": "execute_result",
          "data": {
            "text/plain": [
              "2"
            ]
          },
          "metadata": {
            "tags": []
          },
          "execution_count": 6
        }
      ]
    },
    {
      "cell_type": "markdown",
      "metadata": {
        "id": "V8hMdp24kPbD"
      },
      "source": [
        "3D Tensors and higher dimensional tensors"
      ]
    },
    {
      "cell_type": "code",
      "metadata": {
        "colab": {
          "base_uri": "https://localhost:8080/"
        },
        "id": "deQ7DY6Dwj1z",
        "outputId": "5b4c15c1-1b8f-4119-ae47-3d579821171e"
      },
      "source": [
        "tensor_3d=np.array([[[1,2,3],[4,5,6]],[[7,8,9],[10,11,12]]])\r\n",
        "tensor_3d.ndim"
      ],
      "execution_count": 5,
      "outputs": [
        {
          "output_type": "execute_result",
          "data": {
            "text/plain": [
              "3"
            ]
          },
          "metadata": {
            "tags": []
          },
          "execution_count": 5
        }
      ]
    },
    {
      "cell_type": "markdown",
      "metadata": {
        "id": "wUn5PszgxTJT"
      },
      "source": [
        "Key Attributes of a Tensor\r\n",
        "\r\n",
        "1.   Number of Axes (3D Tensor has 3 Axes)\r\n",
        "2.   Shape\r\n",
        "3.   Data type\r\n",
        "\r\n",
        "\r\n",
        "\r\n"
      ]
    },
    {
      "cell_type": "code",
      "metadata": {
        "id": "J3WR9X9vwj4Z"
      },
      "source": [
        ""
      ],
      "execution_count": null,
      "outputs": []
    },
    {
      "cell_type": "code",
      "metadata": {
        "id": "0XheGUvYZwj0"
      },
      "source": [
        "from keras.datasets import mnist"
      ],
      "execution_count": null,
      "outputs": []
    },
    {
      "cell_type": "markdown",
      "metadata": {
        "id": "tEuCgZzqxuNT"
      },
      "source": [
        "Tensor operations"
      ]
    },
    {
      "cell_type": "markdown",
      "metadata": {
        "id": "urA3el_ljq9f"
      },
      "source": [
        "### Preparation of the Data"
      ]
    },
    {
      "cell_type": "code",
      "metadata": {
        "id": "obeSKoJKjqf2",
        "colab": {
          "base_uri": "https://localhost:8080/"
        },
        "outputId": "b770e7b3-1d6f-4395-afd1-8db1e82bed6c"
      },
      "source": [
        "(train_images,train_labels),(test_images,test_labels)=mnist.load_data()\r\n",
        "\r\n",
        "train_images.shape\r\n",
        "train_labels.shape\r\n",
        "len(train_images)\r\n",
        "len(train_labels)\r\n",
        "\r\n",
        "train_images=train_images.reshape((60000,28*28))\r\n",
        "train_images=train_images.astype('float32')/255\r\n",
        "test_images=test_images.reshape((10000,28*28))\r\n",
        "test_images=test_images.astype('float32')/255\r\n",
        "\r\n",
        "from keras.utils import to_categorical\r\n",
        "train_labels=to_categorical(train_labels)\r\n",
        "test_labels=to_categorical(test_labels)"
      ],
      "execution_count": null,
      "outputs": [
        {
          "output_type": "stream",
          "text": [
            "Downloading data from https://storage.googleapis.com/tensorflow/tf-keras-datasets/mnist.npz\n",
            "11493376/11490434 [==============================] - 0s 0us/step\n"
          ],
          "name": "stdout"
        }
      ]
    },
    {
      "cell_type": "markdown",
      "metadata": {
        "id": "EqmSmGq8i--b"
      },
      "source": [
        "### Network Architecture"
      ]
    },
    {
      "cell_type": "code",
      "metadata": {
        "id": "jkNgNI_fjDC_"
      },
      "source": [
        "from keras import models\r\n",
        "from keras import layers\r\n",
        "network=models.Sequential()\r\n",
        "\r\n",
        "network.summary\r\n",
        "network.add(layers.Dense(512,activation='relu',input_shape=(28*28,)))\r\n",
        "network.add(layers.Dense(10,activation='softmax'))\r\n",
        "\r\n",
        "network.compile(optimizer='rmsprop',loss='categorical_crossentropy',metrics=['accuracy'])"
      ],
      "execution_count": null,
      "outputs": []
    },
    {
      "cell_type": "markdown",
      "metadata": {
        "id": "faHJ3ftgjPDA"
      },
      "source": [
        "### Training the Neural Network"
      ]
    },
    {
      "cell_type": "code",
      "metadata": {
        "id": "DoNxF72_jJhC",
        "colab": {
          "base_uri": "https://localhost:8080/"
        },
        "outputId": "8a5e892e-1797-4c9e-d520-3a0c56634eba"
      },
      "source": [
        "network.fit(train_images,train_labels,epochs=5,batch_size=128)\r\n",
        "train_loss,train_accuracy=network.evaluate(train_images,train_labels)\r\n",
        "test_loss,test_accuracy=network.evaluate(test_images,test_labels)"
      ],
      "execution_count": null,
      "outputs": [
        {
          "output_type": "stream",
          "text": [
            "Epoch 1/5\n",
            "469/469 [==============================] - 3s 3ms/step - loss: 0.4296 - accuracy: 0.8744\n",
            "Epoch 2/5\n",
            "469/469 [==============================] - 1s 3ms/step - loss: 0.1111 - accuracy: 0.9682\n",
            "Epoch 3/5\n",
            "469/469 [==============================] - 1s 3ms/step - loss: 0.0678 - accuracy: 0.9800\n",
            "Epoch 4/5\n",
            "469/469 [==============================] - 1s 3ms/step - loss: 0.0480 - accuracy: 0.9855\n",
            "Epoch 5/5\n",
            "469/469 [==============================] - 1s 3ms/step - loss: 0.0347 - accuracy: 0.9895\n",
            "1875/1875 [==============================] - 3s 2ms/step - loss: 0.0245 - accuracy: 0.9927\n",
            "313/313 [==============================] - 1s 2ms/step - loss: 0.0657 - accuracy: 0.9810\n"
          ],
          "name": "stdout"
        }
      ]
    },
    {
      "cell_type": "markdown",
      "metadata": {
        "id": "R23zaaItiW0t"
      },
      "source": [
        "### Performance measures"
      ]
    },
    {
      "cell_type": "code",
      "metadata": {
        "colab": {
          "base_uri": "https://localhost:8080/"
        },
        "id": "M1f5LIDafXue",
        "outputId": "eaaec52d-aee0-4915-989b-249481a31287"
      },
      "source": [
        "print('Train accuracy:\\n ',train_accuracy)\r\n",
        "print('Test accuracy:\\n ',test_accuracy)"
      ],
      "execution_count": null,
      "outputs": [
        {
          "output_type": "stream",
          "text": [
            "Train accuracy:\n",
            "  0.992733359336853\n",
            "Test accuracy:\n",
            "  0.9810000061988831\n"
          ],
          "name": "stdout"
        }
      ]
    },
    {
      "cell_type": "code",
      "metadata": {
        "id": "zdlw8O1gmm-I",
        "colab": {
          "base_uri": "https://localhost:8080/"
        },
        "outputId": "52297056-aa67-4b33-c9f5-bbe24c840261"
      },
      "source": [
        "from keras.models import Sequential\r\n",
        "from keras.layers import Dense\r\n",
        "model = Sequential()\r\n",
        "model.add(Dense(2, input_dim=1, activation='relu'))\r\n",
        "model.add(Dense(1, activation='sigmoid'))\r\n",
        "print(model.summary())"
      ],
      "execution_count": null,
      "outputs": [
        {
          "output_type": "stream",
          "text": [
            "Model: \"sequential_1\"\n",
            "_________________________________________________________________\n",
            "Layer (type)                 Output Shape              Param #   \n",
            "=================================================================\n",
            "dense_2 (Dense)              (None, 2)                 4         \n",
            "_________________________________________________________________\n",
            "dense_3 (Dense)              (None, 1)                 3         \n",
            "=================================================================\n",
            "Total params: 7\n",
            "Trainable params: 7\n",
            "Non-trainable params: 0\n",
            "_________________________________________________________________\n",
            "None\n"
          ],
          "name": "stdout"
        }
      ]
    },
    {
      "cell_type": "code",
      "metadata": {
        "colab": {
          "base_uri": "https://localhost:8080/",
          "height": 312
        },
        "id": "gYwiICoumShw",
        "outputId": "163d96b2-25b3-43ba-f393-5d36677311c8"
      },
      "source": [
        "from keras.models import Sequential\r\n",
        "from keras.layers import Dense\r\n",
        "from keras.utils.vis_utils import plot_model\r\n",
        "model = Sequential()\r\n",
        "model.add(Dense(2, input_dim=1, activation='relu'))\r\n",
        "model.add(Dense(1, activation='sigmoid'))\r\n",
        "plot_model(model, to_file='model_plot.png', show_shapes=True, show_layer_names=True)"
      ],
      "execution_count": null,
      "outputs": [
        {
          "output_type": "execute_result",
          "data": {
            "image/png": "[encoded data removed]",
            "text/plain": [
              "<IPython.core.display.Image object>"
            ]
          },
          "metadata": {
            "tags": []
          },
          "execution_count": 7
        }
      ]
    }
  ]
}